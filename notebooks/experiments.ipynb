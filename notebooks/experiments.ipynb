{
 "cells": [
  {
   "cell_type": "code",
   "execution_count": 1,
   "metadata": {
    "collapsed": true
   },
   "outputs": [],
   "source": [
    "%load_ext autoreload\n",
    "%autoreload 2\n",
    "%matplotlib inline\n",
    "\n",
    "import torch\n",
    "import torchvision.transforms.functional as T\n",
    "import numpy as np\n",
    "import matplotlib.pyplot as plt\n",
    "\n",
    "from IPython.display import clear_output\n",
    "from torchvision.utils import make_grid\n",
    "from torch.utils.data import DataLoader\n",
    "\n",
    "from pretrain import init, train\n",
    "from configs import FCConfig, CAEConfig\n",
    "from src.data.collators import fc_collator\n",
    "\n",
    "from src.model.FullyConnectedAE import FCAutoencoder\n",
    "from src.model.ConvolutionalAE import CNNAutoencoder\n",
    "\n",
    "from src.data.dataset import get_train_dataset, get_val_dataset"
   ]
  },
  {
   "cell_type": "markdown",
   "source": [
    "### Setting up some useful functions"
   ],
   "metadata": {
    "collapsed": false,
    "pycharm": {
     "name": "#%% md\n"
    }
   }
  },
  {
   "cell_type": "code",
   "execution_count": 2,
   "outputs": [],
   "source": [
    "device = \"cuda\" if torch.cuda.is_available() else \"cpu\"\n",
    "\n",
    "\n",
    "def draw_pretrain_plot(train_losses, val_losses):\n",
    "    x = np.arange(len(train_losses))\n",
    "\n",
    "    plt.figure(figsize=(8, 6))\n",
    "    plt.plot(x, train_losses, c=\"C0\", label=\"train\")\n",
    "    plt.plot(x, val_losses, c=\"C1\", label=\"val\")\n",
    "    plt.title(\"Pretrain model losses\")\n",
    "    plt.xlabel(\"Epoches\")\n",
    "    plt.ylabel(\"Loss\")\n",
    "    plt.semilogy()\n",
    "\n",
    "@torch.no_grad()\n",
    "def construct_grid(model, dataset, num_images=10, ids=None, f=None, collator=None):\n",
    "    if ids is None:\n",
    "        ids = np.random.randint(0, len(dataset), size=num_images)\n",
    "    img_batch = torch.Tensor()\n",
    "    restored_img_batch = torch.Tensor()\n",
    "    for idx in ids:\n",
    "        img, _ = dataset[idx]\n",
    "        if collator is not None:\n",
    "            img, _ = collator([(img, _)])\n",
    "        restored_img = model(img)\n",
    "        if f is not None:\n",
    "            img = f(img)\n",
    "            restored_img = f(restored_img)\n",
    "        img_batch = torch.cat([img_batch, img.unsqueeze(0)], dim=0)\n",
    "        restored_img_batch = torch.cat([restored_img_batch,\n",
    "                                        restored_img.unsqueeze(0)], dim=0)\n",
    "\n",
    "    img_batch = make_grid(img_batch, nrow=num_images, padding=1, normalize=True, value_range=(-1, 1))\n",
    "    restored_img_batch = make_grid(restored_img_batch, nrow=num_images, padding=1, normalize=True, value_range=(-1, 1))\n",
    "    grid = torch.cat([img_batch, restored_img_batch], dim=1)\n",
    "    return grid\n",
    "\n",
    "def show_grid(grid, img_size=(5, 5)):\n",
    "    fig, axs = plt.subplots(figsize=(5 * img_size[0], 5 * img_size[1]),\n",
    "                            squeeze=False)\n",
    "    grid = grid.detach()\n",
    "    grid = T.to_pil_image(grid)\n",
    "    axs[0, 0].imshow(grid)\n",
    "    axs[0, 0].set(xticklabels=[], yticklabels=[], xticks=[], yticks=[])\n",
    "\n",
    "def pretrain(model, optimizer, criterion, scheduler, train_dataloader,\n",
    "             val_dataloader, val_dataset, num_epoches, checkpoint_path, f=None, collator=None):\n",
    "    train_losses = []\n",
    "    val_losses = []\n",
    "    for epoch in range(num_epoches):\n",
    "        train_loss, val_loss = train(model, optimizer, criterion, scheduler,\n",
    "                                     train_dataloader, val_dataloader, checkpoint_path,\n",
    "                                     device=device, num_epoches=1)\n",
    "        train_losses.append(train_loss.item())\n",
    "        val_losses.append(val_loss.item())\n",
    "\n",
    "        clear_output()\n",
    "        draw_pretrain_plot(train_losses, val_losses)\n",
    "        grid = construct_grid(model, val_dataset, f=f, collator=collator)\n",
    "        show_grid(grid)\n",
    "        plt.show()"
   ],
   "metadata": {
    "collapsed": false,
    "pycharm": {
     "name": "#%%\n"
    }
   }
  },
  {
   "cell_type": "markdown",
   "source": [
    "### Pretraining\n",
    "\n",
    "#### Fully connected autoencoder"
   ],
   "metadata": {
    "collapsed": false,
    "pycharm": {
     "name": "#%% md\n"
    }
   }
  },
  {
   "cell_type": "code",
   "execution_count": 5,
   "outputs": [
    {
     "name": "stderr",
     "output_type": "stream",
     "text": [
      "epoch loss: 0.2241562157869339:  80%|███████▉  | 311/390 [00:28<00:07, 11.09it/s] \n"
     ]
    },
    {
     "ename": "KeyboardInterrupt",
     "evalue": "",
     "output_type": "error",
     "traceback": [
      "\u001B[0;31m---------------------------------------------------------------------------\u001B[0m",
      "\u001B[0;31mKeyboardInterrupt\u001B[0m                         Traceback (most recent call last)",
      "\u001B[0;32m/tmp/ipykernel_5789/1570287520.py\u001B[0m in \u001B[0;36m<module>\u001B[0;34m\u001B[0m\n\u001B[1;32m     10\u001B[0m \u001B[0;34m\u001B[0m\u001B[0m\n\u001B[1;32m     11\u001B[0m \u001B[0;34m\u001B[0m\u001B[0m\n\u001B[0;32m---> 12\u001B[0;31m pretrain(model, optimizer, criterion, scheduler, train_dataloader, val_dataloader, val_dataset, 10,\n\u001B[0m\u001B[1;32m     13\u001B[0m          FCConfig.train_config.checkpoint_path, fc_image_reshaper, fc_collator)\n\u001B[1;32m     14\u001B[0m \u001B[0;34m\u001B[0m\u001B[0m\n",
      "\u001B[0;32m/tmp/ipykernel_5789/464215750.py\u001B[0m in \u001B[0;36mpretrain\u001B[0;34m(model, optimizer, criterion, scheduler, train_dataloader, val_dataloader, val_dataset, num_epoches, checkpoint_path, f, collator)\u001B[0m\n\u001B[1;32m     49\u001B[0m     \u001B[0mval_losses\u001B[0m \u001B[0;34m=\u001B[0m \u001B[0;34m[\u001B[0m\u001B[0;34m]\u001B[0m\u001B[0;34m\u001B[0m\u001B[0;34m\u001B[0m\u001B[0m\n\u001B[1;32m     50\u001B[0m     \u001B[0;32mfor\u001B[0m \u001B[0mepoch\u001B[0m \u001B[0;32min\u001B[0m \u001B[0mrange\u001B[0m\u001B[0;34m(\u001B[0m\u001B[0mnum_epoches\u001B[0m\u001B[0;34m)\u001B[0m\u001B[0;34m:\u001B[0m\u001B[0;34m\u001B[0m\u001B[0;34m\u001B[0m\u001B[0m\n\u001B[0;32m---> 51\u001B[0;31m         train_loss, val_loss = train(model, optimizer, criterion, scheduler,\n\u001B[0m\u001B[1;32m     52\u001B[0m                                      \u001B[0mtrain_dataloader\u001B[0m\u001B[0;34m,\u001B[0m \u001B[0mval_dataloader\u001B[0m\u001B[0;34m,\u001B[0m \u001B[0mcheckpoint_path\u001B[0m\u001B[0;34m,\u001B[0m\u001B[0;34m\u001B[0m\u001B[0;34m\u001B[0m\u001B[0m\n\u001B[1;32m     53\u001B[0m                                      device=device, num_epoches=1)\n",
      "\u001B[0;32m~/PycharmProjects/MIL_autoencoder/pretrain.py\u001B[0m in \u001B[0;36mtrain\u001B[0;34m(model, optimizer, criterion, scheduler, train_loader, val_loader, checkpoint_path, device, num_epoches, scheduler_frequency)\u001B[0m\n\u001B[1;32m     65\u001B[0m     \u001B[0mos\u001B[0m\u001B[0;34m.\u001B[0m\u001B[0mmakedirs\u001B[0m\u001B[0;34m(\u001B[0m\u001B[0mcheckpoint_path\u001B[0m\u001B[0;34m,\u001B[0m \u001B[0mexist_ok\u001B[0m\u001B[0;34m=\u001B[0m\u001B[0;32mTrue\u001B[0m\u001B[0;34m)\u001B[0m\u001B[0;34m\u001B[0m\u001B[0;34m\u001B[0m\u001B[0m\n\u001B[1;32m     66\u001B[0m     \u001B[0;32mfor\u001B[0m \u001B[0mepoch\u001B[0m \u001B[0;32min\u001B[0m \u001B[0mrange\u001B[0m\u001B[0;34m(\u001B[0m\u001B[0;36m1\u001B[0m\u001B[0;34m,\u001B[0m \u001B[0mnum_epoches\u001B[0m \u001B[0;34m+\u001B[0m \u001B[0;36m1\u001B[0m\u001B[0;34m)\u001B[0m\u001B[0;34m:\u001B[0m\u001B[0;34m\u001B[0m\u001B[0;34m\u001B[0m\u001B[0m\n\u001B[0;32m---> 67\u001B[0;31m         \u001B[0mepoch_train_losses\u001B[0m \u001B[0;34m=\u001B[0m \u001B[0mtrain_one_epoch\u001B[0m\u001B[0;34m(\u001B[0m\u001B[0mmodel\u001B[0m\u001B[0;34m,\u001B[0m \u001B[0mtrain_loader\u001B[0m\u001B[0;34m,\u001B[0m \u001B[0moptimizer\u001B[0m\u001B[0;34m,\u001B[0m \u001B[0mcriterion\u001B[0m\u001B[0;34m,\u001B[0m \u001B[0mdevice\u001B[0m\u001B[0;34m,\u001B[0m \u001B[0mscheduler\u001B[0m\u001B[0;34m)\u001B[0m\u001B[0;34m\u001B[0m\u001B[0;34m\u001B[0m\u001B[0m\n\u001B[0m\u001B[1;32m     68\u001B[0m         \u001B[0mepoch_val_losses\u001B[0m \u001B[0;34m=\u001B[0m \u001B[0mevaluate\u001B[0m\u001B[0;34m(\u001B[0m\u001B[0mmodel\u001B[0m\u001B[0;34m,\u001B[0m \u001B[0mval_loader\u001B[0m\u001B[0;34m,\u001B[0m \u001B[0mcriterion\u001B[0m\u001B[0;34m,\u001B[0m \u001B[0mdevice\u001B[0m\u001B[0;34m)\u001B[0m\u001B[0;34m\u001B[0m\u001B[0;34m\u001B[0m\u001B[0m\n\u001B[1;32m     69\u001B[0m \u001B[0;34m\u001B[0m\u001B[0m\n",
      "\u001B[0;32m~/PycharmProjects/MIL_autoencoder/pretrain.py\u001B[0m in \u001B[0;36mtrain_one_epoch\u001B[0;34m(model, train_dataloader, optimizer, criterion, device, scheduler, scheduler_frequency)\u001B[0m\n\u001B[1;32m     35\u001B[0m                 \u001B[0mscheduler\u001B[0m\u001B[0;34m.\u001B[0m\u001B[0mstep\u001B[0m\u001B[0;34m(\u001B[0m\u001B[0;34m)\u001B[0m\u001B[0;34m\u001B[0m\u001B[0;34m\u001B[0m\u001B[0m\n\u001B[1;32m     36\u001B[0m \u001B[0;34m\u001B[0m\u001B[0m\n\u001B[0;32m---> 37\u001B[0;31m             \u001B[0mprbar\u001B[0m\u001B[0;34m.\u001B[0m\u001B[0mset_description\u001B[0m\u001B[0;34m(\u001B[0m\u001B[0;34mf\"epoch loss: {torch.sum(losses) / (batch_idx + 1)}\"\u001B[0m\u001B[0;34m)\u001B[0m\u001B[0;34m\u001B[0m\u001B[0;34m\u001B[0m\u001B[0m\n\u001B[0m\u001B[1;32m     38\u001B[0m             \u001B[0mprbar\u001B[0m\u001B[0;34m.\u001B[0m\u001B[0mupdate\u001B[0m\u001B[0;34m(\u001B[0m\u001B[0;36m1\u001B[0m\u001B[0;34m)\u001B[0m\u001B[0;34m\u001B[0m\u001B[0;34m\u001B[0m\u001B[0m\n\u001B[1;32m     39\u001B[0m \u001B[0;34m\u001B[0m\u001B[0m\n",
      "\u001B[0;32m~/anaconda3/envs/local_colab/lib/python3.8/site-packages/torch/_tensor.py\u001B[0m in \u001B[0;36m__format__\u001B[0;34m(self, format_spec)\u001B[0m\n\u001B[1;32m    855\u001B[0m             \u001B[0;32mreturn\u001B[0m \u001B[0mhandle_torch_function\u001B[0m\u001B[0;34m(\u001B[0m\u001B[0mTensor\u001B[0m\u001B[0;34m.\u001B[0m\u001B[0m__format__\u001B[0m\u001B[0;34m,\u001B[0m \u001B[0;34m(\u001B[0m\u001B[0mself\u001B[0m\u001B[0;34m,\u001B[0m\u001B[0;34m)\u001B[0m\u001B[0;34m,\u001B[0m \u001B[0mself\u001B[0m\u001B[0;34m,\u001B[0m \u001B[0mformat_spec\u001B[0m\u001B[0;34m)\u001B[0m\u001B[0;34m\u001B[0m\u001B[0;34m\u001B[0m\u001B[0m\n\u001B[1;32m    856\u001B[0m         \u001B[0;32mif\u001B[0m \u001B[0mself\u001B[0m\u001B[0;34m.\u001B[0m\u001B[0mdim\u001B[0m\u001B[0;34m(\u001B[0m\u001B[0;34m)\u001B[0m \u001B[0;34m==\u001B[0m \u001B[0;36m0\u001B[0m \u001B[0;32mand\u001B[0m \u001B[0;32mnot\u001B[0m \u001B[0mself\u001B[0m\u001B[0;34m.\u001B[0m\u001B[0mis_meta\u001B[0m \u001B[0;32mand\u001B[0m \u001B[0mtype\u001B[0m\u001B[0;34m(\u001B[0m\u001B[0mself\u001B[0m\u001B[0;34m)\u001B[0m \u001B[0;32mis\u001B[0m \u001B[0mTensor\u001B[0m\u001B[0;34m:\u001B[0m\u001B[0;34m\u001B[0m\u001B[0;34m\u001B[0m\u001B[0m\n\u001B[0;32m--> 857\u001B[0;31m             \u001B[0;32mreturn\u001B[0m \u001B[0mself\u001B[0m\u001B[0;34m.\u001B[0m\u001B[0mitem\u001B[0m\u001B[0;34m(\u001B[0m\u001B[0;34m)\u001B[0m\u001B[0;34m.\u001B[0m\u001B[0m__format__\u001B[0m\u001B[0;34m(\u001B[0m\u001B[0mformat_spec\u001B[0m\u001B[0;34m)\u001B[0m\u001B[0;34m\u001B[0m\u001B[0;34m\u001B[0m\u001B[0m\n\u001B[0m\u001B[1;32m    858\u001B[0m         \u001B[0;32mreturn\u001B[0m \u001B[0mobject\u001B[0m\u001B[0;34m.\u001B[0m\u001B[0m__format__\u001B[0m\u001B[0;34m(\u001B[0m\u001B[0mself\u001B[0m\u001B[0;34m,\u001B[0m \u001B[0mformat_spec\u001B[0m\u001B[0;34m)\u001B[0m\u001B[0;34m\u001B[0m\u001B[0;34m\u001B[0m\u001B[0m\n\u001B[1;32m    859\u001B[0m \u001B[0;34m\u001B[0m\u001B[0m\n",
      "\u001B[0;31mKeyboardInterrupt\u001B[0m: "
     ]
    }
   ],
   "source": [
    "model, optimizer, criterion, scheduler = init(FCConfig, FCAutoencoder)\n",
    "model.to(device)\n",
    "\n",
    "train_dataset = get_train_dataset(\"../data\", False)\n",
    "val_dataset = get_val_dataset(\"../data\", False)\n",
    "fc_image_reshaper = lambda img: img.view(3, 32, 32)\n",
    "train_dataloader = DataLoader(train_dataset, FCConfig.train_config.train_batch_size, shuffle=True,\n",
    "                              num_workers=6, collate_fn=fc_collator, pin_memory=True, drop_last=True)\n",
    "val_dataloader = DataLoader(val_dataset, FCConfig.train_config.eval_batch_size, shuffle=False,\n",
    "                            num_workers=6, collate_fn=fc_collator, pin_memory=True)\n",
    "\n",
    "\n",
    "pretrain(model, optimizer, criterion, scheduler, train_dataloader, val_dataloader,\n",
    "         val_dataset, FCConfig.train_config.num_epoches,\n",
    "         FCConfig.train_config.checkpoint_path, fc_image_reshaper, fc_collator)\n"
   ],
   "metadata": {
    "collapsed": false,
    "pycharm": {
     "name": "#%%\n"
    }
   }
  },
  {
   "cell_type": "code",
   "execution_count": null,
   "outputs": [],
   "source": [],
   "metadata": {
    "collapsed": false,
    "pycharm": {
     "name": "#%%\n"
    }
   }
  }
 ],
 "metadata": {
  "kernelspec": {
   "name": "local_colab",
   "language": "python",
   "display_name": "local_colab"
  },
  "language_info": {
   "codemirror_mode": {
    "name": "ipython",
    "version": 2
   },
   "file_extension": ".py",
   "mimetype": "text/x-python",
   "name": "python",
   "nbconvert_exporter": "python",
   "pygments_lexer": "ipython2",
   "version": "2.7.6"
  }
 },
 "nbformat": 4,
 "nbformat_minor": 0
}